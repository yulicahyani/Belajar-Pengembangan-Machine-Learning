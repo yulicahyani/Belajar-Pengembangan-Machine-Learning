{
  "nbformat": 4,
  "nbformat_minor": 0,
  "metadata": {
    "colab": {
      "name": "Submission1.ipynb",
      "provenance": [],
      "collapsed_sections": []
    },
    "kernelspec": {
      "name": "python3",
      "display_name": "Python 3"
    },
    "language_info": {
      "name": "python"
    }
  },
  "cells": [
    {
      "cell_type": "markdown",
      "metadata": {
        "id": "PrUYG2Ifvy-e"
      },
      "source": [
        "#Import Library"
      ]
    },
    {
      "cell_type": "code",
      "metadata": {
        "id": "XFBH7Siloalw"
      },
      "source": [
        "import pandas as pd\n",
        "import numpy as np\n",
        "import tensorflow as tf\n",
        "import matplotlib.pyplot as plt\n",
        "from sklearn.model_selection import train_test_split\n",
        "from sklearn.metrics import confusion_matrix, classification_report\n",
        "from sklearn.metrics import f1_score\n",
        "from tensorflow.keras.preprocessing.text import Tokenizer\n",
        "from tensorflow.keras.preprocessing.sequence import pad_sequences\n",
        "from google_drive_downloader import GoogleDriveDownloader as gdd"
      ],
      "execution_count": 117,
      "outputs": []
    },
    {
      "cell_type": "markdown",
      "metadata": {
        "id": "ddcsnccDvq3U"
      },
      "source": [
        "#Download & Load Data\n",
        "Drive link : https://drive.google.com/file/d/1Xfs7L2_49U_xuklVSugirYmSo1KCHWPe/view?usp=sharing"
      ]
    },
    {
      "cell_type": "code",
      "metadata": {
        "colab": {
          "base_uri": "https://localhost:8080/"
        },
        "id": "M4sc3iOXvfYJ",
        "outputId": "7bfbea15-6952-4787-ebac-cb32b482950c"
      },
      "source": [
        "gdd.download_file_from_google_drive(file_id='1Xfs7L2_49U_xuklVSugirYmSo1KCHWPe',\n",
        "                                    dest_path='content/Question_Classification_Dataset.zip',\n",
        "                                    unzip=True)"
      ],
      "execution_count": 22,
      "outputs": [
        {
          "output_type": "stream",
          "name": "stdout",
          "text": [
            "Downloading 1Xfs7L2_49U_xuklVSugirYmSo1KCHWPe into content/Question_Classification_Dataset.zip... Done.\n",
            "Unzipping...Done.\n"
          ]
        }
      ]
    },
    {
      "cell_type": "code",
      "metadata": {
        "colab": {
          "base_uri": "https://localhost:8080/",
          "height": 363
        },
        "id": "iM0y5H23tki4",
        "outputId": "c4af7294-f253-400e-8fc5-40d78d7c8ef6"
      },
      "source": [
        "dataframe = pd.read_csv(\"/content/content/Question_Classification_Dataset/Question_Classification_Dataset.csv\")\n",
        "dataframe.head(10)"
      ],
      "execution_count": 24,
      "outputs": [
        {
          "output_type": "execute_result",
          "data": {
            "text/html": [
              "<div>\n",
              "<style scoped>\n",
              "    .dataframe tbody tr th:only-of-type {\n",
              "        vertical-align: middle;\n",
              "    }\n",
              "\n",
              "    .dataframe tbody tr th {\n",
              "        vertical-align: top;\n",
              "    }\n",
              "\n",
              "    .dataframe thead th {\n",
              "        text-align: right;\n",
              "    }\n",
              "</style>\n",
              "<table border=\"1\" class=\"dataframe\">\n",
              "  <thead>\n",
              "    <tr style=\"text-align: right;\">\n",
              "      <th></th>\n",
              "      <th>Unnamed: 0</th>\n",
              "      <th>Questions</th>\n",
              "      <th>Category0</th>\n",
              "      <th>Category1</th>\n",
              "    </tr>\n",
              "  </thead>\n",
              "  <tbody>\n",
              "    <tr>\n",
              "      <th>0</th>\n",
              "      <td>0</td>\n",
              "      <td>How did serfdom develop in and then leave Russ...</td>\n",
              "      <td>DESCRIPTION</td>\n",
              "      <td>DESC</td>\n",
              "    </tr>\n",
              "    <tr>\n",
              "      <th>1</th>\n",
              "      <td>1</td>\n",
              "      <td>What films featured the character Popeye Doyle ?</td>\n",
              "      <td>ENTITY</td>\n",
              "      <td>ENTY</td>\n",
              "    </tr>\n",
              "    <tr>\n",
              "      <th>2</th>\n",
              "      <td>2</td>\n",
              "      <td>How can I find a list of celebrities ' real na...</td>\n",
              "      <td>DESCRIPTION</td>\n",
              "      <td>DESC</td>\n",
              "    </tr>\n",
              "    <tr>\n",
              "      <th>3</th>\n",
              "      <td>3</td>\n",
              "      <td>What fowl grabs the spotlight after the Chines...</td>\n",
              "      <td>ENTITY</td>\n",
              "      <td>ENTY</td>\n",
              "    </tr>\n",
              "    <tr>\n",
              "      <th>4</th>\n",
              "      <td>4</td>\n",
              "      <td>What is the full form of .com ?</td>\n",
              "      <td>ABBREVIATION</td>\n",
              "      <td>ABBR</td>\n",
              "    </tr>\n",
              "    <tr>\n",
              "      <th>5</th>\n",
              "      <td>5</td>\n",
              "      <td>What contemptible scoundrel stole the cork fro...</td>\n",
              "      <td>HUMAN</td>\n",
              "      <td>HUM</td>\n",
              "    </tr>\n",
              "    <tr>\n",
              "      <th>6</th>\n",
              "      <td>6</td>\n",
              "      <td>What team did baseball 's St. Louis Browns bec...</td>\n",
              "      <td>HUMAN</td>\n",
              "      <td>HUM</td>\n",
              "    </tr>\n",
              "    <tr>\n",
              "      <th>7</th>\n",
              "      <td>7</td>\n",
              "      <td>What is the oldest profession ?</td>\n",
              "      <td>HUMAN</td>\n",
              "      <td>HUM</td>\n",
              "    </tr>\n",
              "    <tr>\n",
              "      <th>8</th>\n",
              "      <td>8</td>\n",
              "      <td>What are liver enzymes ?</td>\n",
              "      <td>DESCRIPTION</td>\n",
              "      <td>DESC</td>\n",
              "    </tr>\n",
              "    <tr>\n",
              "      <th>9</th>\n",
              "      <td>9</td>\n",
              "      <td>Name the scar-faced bounty hunter of The Old W...</td>\n",
              "      <td>HUMAN</td>\n",
              "      <td>HUM</td>\n",
              "    </tr>\n",
              "  </tbody>\n",
              "</table>\n",
              "</div>"
            ],
            "text/plain": [
              "   Unnamed: 0  ... Category1\n",
              "0           0  ...      DESC\n",
              "1           1  ...      ENTY\n",
              "2           2  ...      DESC\n",
              "3           3  ...      ENTY\n",
              "4           4  ...      ABBR\n",
              "5           5  ...       HUM\n",
              "6           6  ...       HUM\n",
              "7           7  ...       HUM\n",
              "8           8  ...      DESC\n",
              "9           9  ...       HUM\n",
              "\n",
              "[10 rows x 4 columns]"
            ]
          },
          "metadata": {},
          "execution_count": 24
        }
      ]
    },
    {
      "cell_type": "markdown",
      "metadata": {
        "id": "y_Zc9N1U2XA_"
      },
      "source": [
        "#Data Preprocessing"
      ]
    },
    {
      "cell_type": "code",
      "metadata": {
        "colab": {
          "base_uri": "https://localhost:8080/",
          "height": 206
        },
        "id": "dZH0Tvuu0C1c",
        "outputId": "b190cc09-aec7-4a55-e20a-1113a1d14be6"
      },
      "source": [
        "#drop kolom yang tidak diperlukan\n",
        "dataframe = dataframe.drop(columns=['Unnamed: 0', 'Category1'])\n",
        "dataframe.head()"
      ],
      "execution_count": 25,
      "outputs": [
        {
          "output_type": "execute_result",
          "data": {
            "text/html": [
              "<div>\n",
              "<style scoped>\n",
              "    .dataframe tbody tr th:only-of-type {\n",
              "        vertical-align: middle;\n",
              "    }\n",
              "\n",
              "    .dataframe tbody tr th {\n",
              "        vertical-align: top;\n",
              "    }\n",
              "\n",
              "    .dataframe thead th {\n",
              "        text-align: right;\n",
              "    }\n",
              "</style>\n",
              "<table border=\"1\" class=\"dataframe\">\n",
              "  <thead>\n",
              "    <tr style=\"text-align: right;\">\n",
              "      <th></th>\n",
              "      <th>Questions</th>\n",
              "      <th>Category0</th>\n",
              "    </tr>\n",
              "  </thead>\n",
              "  <tbody>\n",
              "    <tr>\n",
              "      <th>0</th>\n",
              "      <td>How did serfdom develop in and then leave Russ...</td>\n",
              "      <td>DESCRIPTION</td>\n",
              "    </tr>\n",
              "    <tr>\n",
              "      <th>1</th>\n",
              "      <td>What films featured the character Popeye Doyle ?</td>\n",
              "      <td>ENTITY</td>\n",
              "    </tr>\n",
              "    <tr>\n",
              "      <th>2</th>\n",
              "      <td>How can I find a list of celebrities ' real na...</td>\n",
              "      <td>DESCRIPTION</td>\n",
              "    </tr>\n",
              "    <tr>\n",
              "      <th>3</th>\n",
              "      <td>What fowl grabs the spotlight after the Chines...</td>\n",
              "      <td>ENTITY</td>\n",
              "    </tr>\n",
              "    <tr>\n",
              "      <th>4</th>\n",
              "      <td>What is the full form of .com ?</td>\n",
              "      <td>ABBREVIATION</td>\n",
              "    </tr>\n",
              "  </tbody>\n",
              "</table>\n",
              "</div>"
            ],
            "text/plain": [
              "                                           Questions     Category0\n",
              "0  How did serfdom develop in and then leave Russ...   DESCRIPTION\n",
              "1   What films featured the character Popeye Doyle ?        ENTITY\n",
              "2  How can I find a list of celebrities ' real na...   DESCRIPTION\n",
              "3  What fowl grabs the spotlight after the Chines...        ENTITY\n",
              "4                    What is the full form of .com ?  ABBREVIATION"
            ]
          },
          "metadata": {},
          "execution_count": 25
        }
      ]
    },
    {
      "cell_type": "code",
      "metadata": {
        "colab": {
          "base_uri": "https://localhost:8080/",
          "height": 423
        },
        "id": "Y-R-duL-0nJI",
        "outputId": "477ca728-7b52-4142-897d-8ec4bca93251"
      },
      "source": [
        "#melakukan one-hot-encoding dan membuat dataframe baru\n",
        "category = pd.get_dummies(dataframe.Category0)\n",
        "dataframe_baru = pd.concat([dataframe, category], axis=1)\n",
        "dataframe_baru = dataframe_baru.drop(columns='Category0')\n",
        "dataframe_baru"
      ],
      "execution_count": 26,
      "outputs": [
        {
          "output_type": "execute_result",
          "data": {
            "text/html": [
              "<div>\n",
              "<style scoped>\n",
              "    .dataframe tbody tr th:only-of-type {\n",
              "        vertical-align: middle;\n",
              "    }\n",
              "\n",
              "    .dataframe tbody tr th {\n",
              "        vertical-align: top;\n",
              "    }\n",
              "\n",
              "    .dataframe thead th {\n",
              "        text-align: right;\n",
              "    }\n",
              "</style>\n",
              "<table border=\"1\" class=\"dataframe\">\n",
              "  <thead>\n",
              "    <tr style=\"text-align: right;\">\n",
              "      <th></th>\n",
              "      <th>Questions</th>\n",
              "      <th>ABBREVIATION</th>\n",
              "      <th>DESCRIPTION</th>\n",
              "      <th>ENTITY</th>\n",
              "      <th>HUMAN</th>\n",
              "      <th>LOCATION</th>\n",
              "      <th>NUMERIC</th>\n",
              "    </tr>\n",
              "  </thead>\n",
              "  <tbody>\n",
              "    <tr>\n",
              "      <th>0</th>\n",
              "      <td>How did serfdom develop in and then leave Russ...</td>\n",
              "      <td>0</td>\n",
              "      <td>1</td>\n",
              "      <td>0</td>\n",
              "      <td>0</td>\n",
              "      <td>0</td>\n",
              "      <td>0</td>\n",
              "    </tr>\n",
              "    <tr>\n",
              "      <th>1</th>\n",
              "      <td>What films featured the character Popeye Doyle ?</td>\n",
              "      <td>0</td>\n",
              "      <td>0</td>\n",
              "      <td>1</td>\n",
              "      <td>0</td>\n",
              "      <td>0</td>\n",
              "      <td>0</td>\n",
              "    </tr>\n",
              "    <tr>\n",
              "      <th>2</th>\n",
              "      <td>How can I find a list of celebrities ' real na...</td>\n",
              "      <td>0</td>\n",
              "      <td>1</td>\n",
              "      <td>0</td>\n",
              "      <td>0</td>\n",
              "      <td>0</td>\n",
              "      <td>0</td>\n",
              "    </tr>\n",
              "    <tr>\n",
              "      <th>3</th>\n",
              "      <td>What fowl grabs the spotlight after the Chines...</td>\n",
              "      <td>0</td>\n",
              "      <td>0</td>\n",
              "      <td>1</td>\n",
              "      <td>0</td>\n",
              "      <td>0</td>\n",
              "      <td>0</td>\n",
              "    </tr>\n",
              "    <tr>\n",
              "      <th>4</th>\n",
              "      <td>What is the full form of .com ?</td>\n",
              "      <td>1</td>\n",
              "      <td>0</td>\n",
              "      <td>0</td>\n",
              "      <td>0</td>\n",
              "      <td>0</td>\n",
              "      <td>0</td>\n",
              "    </tr>\n",
              "    <tr>\n",
              "      <th>...</th>\n",
              "      <td>...</td>\n",
              "      <td>...</td>\n",
              "      <td>...</td>\n",
              "      <td>...</td>\n",
              "      <td>...</td>\n",
              "      <td>...</td>\n",
              "      <td>...</td>\n",
              "    </tr>\n",
              "    <tr>\n",
              "      <th>5447</th>\n",
              "      <td>What 's the shape of a camel 's spine ?</td>\n",
              "      <td>0</td>\n",
              "      <td>0</td>\n",
              "      <td>1</td>\n",
              "      <td>0</td>\n",
              "      <td>0</td>\n",
              "      <td>0</td>\n",
              "    </tr>\n",
              "    <tr>\n",
              "      <th>5448</th>\n",
              "      <td>What type of currency is used in China ?</td>\n",
              "      <td>0</td>\n",
              "      <td>0</td>\n",
              "      <td>1</td>\n",
              "      <td>0</td>\n",
              "      <td>0</td>\n",
              "      <td>0</td>\n",
              "    </tr>\n",
              "    <tr>\n",
              "      <th>5449</th>\n",
              "      <td>What is the temperature today ?</td>\n",
              "      <td>0</td>\n",
              "      <td>0</td>\n",
              "      <td>0</td>\n",
              "      <td>0</td>\n",
              "      <td>0</td>\n",
              "      <td>1</td>\n",
              "    </tr>\n",
              "    <tr>\n",
              "      <th>5450</th>\n",
              "      <td>What is the temperature for cooking ?</td>\n",
              "      <td>0</td>\n",
              "      <td>0</td>\n",
              "      <td>0</td>\n",
              "      <td>0</td>\n",
              "      <td>0</td>\n",
              "      <td>1</td>\n",
              "    </tr>\n",
              "    <tr>\n",
              "      <th>5451</th>\n",
              "      <td>What currency is used in Australia ?</td>\n",
              "      <td>0</td>\n",
              "      <td>0</td>\n",
              "      <td>1</td>\n",
              "      <td>0</td>\n",
              "      <td>0</td>\n",
              "      <td>0</td>\n",
              "    </tr>\n",
              "  </tbody>\n",
              "</table>\n",
              "<p>5452 rows × 7 columns</p>\n",
              "</div>"
            ],
            "text/plain": [
              "                                              Questions  ...  NUMERIC\n",
              "0     How did serfdom develop in and then leave Russ...  ...        0\n",
              "1      What films featured the character Popeye Doyle ?  ...        0\n",
              "2     How can I find a list of celebrities ' real na...  ...        0\n",
              "3     What fowl grabs the spotlight after the Chines...  ...        0\n",
              "4                       What is the full form of .com ?  ...        0\n",
              "...                                                 ...  ...      ...\n",
              "5447            What 's the shape of a camel 's spine ?  ...        0\n",
              "5448           What type of currency is used in China ?  ...        0\n",
              "5449                    What is the temperature today ?  ...        1\n",
              "5450              What is the temperature for cooking ?  ...        1\n",
              "5451               What currency is used in Australia ?  ...        0\n",
              "\n",
              "[5452 rows x 7 columns]"
            ]
          },
          "metadata": {},
          "execution_count": 26
        }
      ]
    },
    {
      "cell_type": "code",
      "metadata": {
        "colab": {
          "base_uri": "https://localhost:8080/"
        },
        "id": "hslzQoL12zTq",
        "outputId": "95d53bbd-973d-4d04-d721-24a56b05bdef"
      },
      "source": [
        "#mengubah nilai-nilai dari dataframe ke dalam tipe data numpy array menggunakan atribut values\n",
        "questions = dataframe_baru['Questions'].values\n",
        "label_list = dataframe[\"Category0\"].drop_duplicates().values.tolist()\n",
        "label = dataframe_baru[labels].values\n",
        "label"
      ],
      "execution_count": 31,
      "outputs": [
        {
          "output_type": "execute_result",
          "data": {
            "text/plain": [
              "array([[1, 0, 0, 0, 0, 0],\n",
              "       [0, 1, 0, 0, 0, 0],\n",
              "       [1, 0, 0, 0, 0, 0],\n",
              "       ...,\n",
              "       [0, 0, 0, 0, 1, 0],\n",
              "       [0, 0, 0, 0, 1, 0],\n",
              "       [0, 1, 0, 0, 0, 0]], dtype=uint8)"
            ]
          },
          "metadata": {},
          "execution_count": 31
        }
      ]
    },
    {
      "cell_type": "code",
      "metadata": {
        "id": "KNlmkt6k4PX4"
      },
      "source": [
        "#membagi data train dan data test\n",
        "questions_train, questions_test, label_train, label_test = train_test_split(questions, label, test_size=0.2, random_state=42)"
      ],
      "execution_count": 105,
      "outputs": []
    },
    {
      "cell_type": "code",
      "metadata": {
        "colab": {
          "base_uri": "https://localhost:8080/"
        },
        "id": "SY58jMIW5TNd",
        "outputId": "2ab9d4ac-e796-46c0-ff63-bcde0d9542c7"
      },
      "source": [
        "print(len(questions_train))\n",
        "print(len(questions_test))"
      ],
      "execution_count": 106,
      "outputs": [
        {
          "output_type": "stream",
          "name": "stdout",
          "text": [
            "4361\n",
            "1091\n"
          ]
        }
      ]
    },
    {
      "cell_type": "markdown",
      "metadata": {
        "id": "Yf1SHjLK5z5y"
      },
      "source": [
        "#Tokenisasi"
      ]
    },
    {
      "cell_type": "code",
      "metadata": {
        "id": "QuNqsEZD5fvT"
      },
      "source": [
        "#tokenisasi dan mengkonversi setiap sampel menjadi sequence\n",
        "tokenizer = Tokenizer(num_words=5000, oov_token='x')\n",
        "tokenizer.fit_on_texts(questions_train) \n",
        "tokenizer.fit_on_texts(questions_test)\n",
        " \n",
        "sekuens_train = tokenizer.texts_to_sequences(questions_train)\n",
        "sekuens_test = tokenizer.texts_to_sequences(questions_test)\n",
        " \n",
        "padded_train = pad_sequences(sekuens_train) \n",
        "padded_test = pad_sequences(sekuens_test)"
      ],
      "execution_count": 107,
      "outputs": []
    },
    {
      "cell_type": "markdown",
      "metadata": {
        "id": "xlDUMm5H6la7"
      },
      "source": [
        "#Membangun Model"
      ]
    },
    {
      "cell_type": "code",
      "metadata": {
        "id": "S7YvIfpQ5vlB"
      },
      "source": [
        "model = tf.keras.Sequential([\n",
        "    tf.keras.layers.Embedding(input_dim=5000, output_dim=16),\n",
        "    tf.keras.layers.LSTM(64),\n",
        "    tf.keras.layers.Dense(128, activation='relu'),\n",
        "    tf.keras.layers.Dense(64, activation='relu'),\n",
        "    tf.keras.layers.Dense(6, activation='softmax')\n",
        "])\n",
        "model.compile(loss='categorical_crossentropy',optimizer='adam',metrics=['accuracy'])"
      ],
      "execution_count": 108,
      "outputs": []
    },
    {
      "cell_type": "code",
      "metadata": {
        "id": "X64D9RUm7Cag"
      },
      "source": [
        "class myCallback(tf.keras.callbacks.Callback):\n",
        "  def on_epoch_end(self, epoch, logs={}):\n",
        "    if(logs.get('accuracy') > 0.98 and logs.get('val_accuracy') > 0.80):\n",
        "      print(\"\\n Accuracy dan Val Accuracy sudah mencapai target training dihentikan\")\n",
        "      self.model.stop_training = True\n",
        "\n",
        "callbacks = myCallback()"
      ],
      "execution_count": 110,
      "outputs": []
    },
    {
      "cell_type": "code",
      "metadata": {
        "colab": {
          "base_uri": "https://localhost:8080/"
        },
        "id": "9TYekMdz_stD",
        "outputId": "4219b474-36b7-4278-b615-f8f8772535bd"
      },
      "source": [
        "num_epochs = 30\n",
        "history = model.fit(padded_train, label_train, epochs=num_epochs, \n",
        "                    validation_data=(padded_test, label_test), verbose=2, callbacks=[callbacks])"
      ],
      "execution_count": 111,
      "outputs": [
        {
          "output_type": "stream",
          "name": "stdout",
          "text": [
            "Epoch 1/30\n",
            "137/137 - 6s - loss: 1.6459 - accuracy: 0.2593 - val_loss: 1.5166 - val_accuracy: 0.3786\n",
            "Epoch 2/30\n",
            "137/137 - 3s - loss: 1.2904 - accuracy: 0.4731 - val_loss: 1.2082 - val_accuracy: 0.5096\n",
            "Epoch 3/30\n",
            "137/137 - 3s - loss: 0.8063 - accuracy: 0.6895 - val_loss: 0.8509 - val_accuracy: 0.6792\n",
            "Epoch 4/30\n",
            "137/137 - 3s - loss: 0.4902 - accuracy: 0.8356 - val_loss: 0.7742 - val_accuracy: 0.7314\n",
            "Epoch 5/30\n",
            "137/137 - 3s - loss: 0.3059 - accuracy: 0.9023 - val_loss: 0.7853 - val_accuracy: 0.7424\n",
            "Epoch 6/30\n",
            "137/137 - 3s - loss: 0.1925 - accuracy: 0.9413 - val_loss: 0.7767 - val_accuracy: 0.7699\n",
            "Epoch 7/30\n",
            "137/137 - 3s - loss: 0.1250 - accuracy: 0.9626 - val_loss: 0.8486 - val_accuracy: 0.7800\n",
            "Epoch 8/30\n",
            "137/137 - 3s - loss: 0.0832 - accuracy: 0.9784 - val_loss: 0.8591 - val_accuracy: 0.7947\n",
            "Epoch 9/30\n",
            "137/137 - 3s - loss: 0.0566 - accuracy: 0.9839 - val_loss: 1.0214 - val_accuracy: 0.7846\n",
            "Epoch 10/30\n",
            "137/137 - 3s - loss: 0.0448 - accuracy: 0.9895 - val_loss: 0.9761 - val_accuracy: 0.8038\n",
            "\n",
            " Accuracy dan Val Accuracy sudah mencapai target training dihentikan\n"
          ]
        }
      ]
    },
    {
      "cell_type": "code",
      "metadata": {
        "colab": {
          "base_uri": "https://localhost:8080/",
          "height": 265
        },
        "id": "MDx2-c73887I",
        "outputId": "f2f4f6b0-e402-4fba-e51e-d68ff2dfb304"
      },
      "source": [
        "#Plot Loss dan Akurasi dari Trained Model\n",
        "fig, ax = plt.subplots(1, 2, figsize=(10, 4))\n",
        "\n",
        "history_df = pd.DataFrame(history.history)\n",
        "history_df[['loss', 'val_loss']].plot(kind='line', ax=ax[0])\n",
        "history_df[['accuracy', 'val_accuracy']].plot(kind='line', ax=ax[1]);"
      ],
      "execution_count": 112,
      "outputs": [
        {
          "output_type": "display_data",
          "data": {
            "image/png": "[encoded data removed]",
            "text/plain": [
              "<Figure size 720x288 with 2 Axes>"
            ]
          },
          "metadata": {
            "needs_background": "light"
          }
        }
      ]
    },
    {
      "cell_type": "markdown",
      "metadata": {
        "id": "zGjR0mBrEO-s"
      },
      "source": [
        "#confusion matrix"
      ]
    },
    {
      "cell_type": "code",
      "metadata": {
        "colab": {
          "base_uri": "https://localhost:8080/"
        },
        "id": "lBg59c2fAMuY",
        "outputId": "ee162618-638d-4017-d844-7d41d94a3a61"
      },
      "source": [
        "predictions = model.predict(padded_test)\n",
        "predictions[:5]"
      ],
      "execution_count": 113,
      "outputs": [
        {
          "output_type": "execute_result",
          "data": {
            "text/plain": [
              "array([[2.7948961e-04, 3.0814891e-04, 1.5206624e-07, 1.4602001e-04,\n",
              "        9.8601589e-03, 9.8940605e-01],\n",
              "       [3.8851088e-01, 5.3349358e-01, 7.0800997e-02, 6.8130242e-03,\n",
              "        1.0978547e-04, 2.7181831e-04],\n",
              "       [9.9941492e-01, 8.3733858e-06, 5.7670422e-04, 8.9305630e-09,\n",
              "        2.0361556e-08, 2.1635844e-09],\n",
              "       [9.9567282e-01, 2.6789443e-03, 1.6647574e-04, 2.9952064e-06,\n",
              "        1.4759249e-03, 2.8183201e-06],\n",
              "       [3.5837593e-06, 7.4173106e-05, 6.1252891e-08, 9.9795794e-01,\n",
              "        2.0941607e-05, 1.9433169e-03]], dtype=float32)"
            ]
          },
          "metadata": {},
          "execution_count": 113
        }
      ]
    },
    {
      "cell_type": "code",
      "metadata": {
        "colab": {
          "base_uri": "https://localhost:8080/"
        },
        "id": "buVsOfTRAaxg",
        "outputId": "ee51cf9f-9f36-47c2-8841-094fefa8da62"
      },
      "source": [
        "prediction_labels = np.argmax(predictions, axis=1)\n",
        "prediction_labels[:5]"
      ],
      "execution_count": 114,
      "outputs": [
        {
          "output_type": "execute_result",
          "data": {
            "text/plain": [
              "array([5, 1, 0, 0, 3])"
            ]
          },
          "metadata": {},
          "execution_count": 114
        }
      ]
    },
    {
      "cell_type": "code",
      "metadata": {
        "colab": {
          "base_uri": "https://localhost:8080/"
        },
        "id": "jlYwzg8mCaNk",
        "outputId": "a2ffcad3-b648-43fa-fdfc-4d8dc61d481a"
      },
      "source": [
        "labels_test = np.argmax(label_test, axis=1)\n",
        "labels_test[:5]"
      ],
      "execution_count": 115,
      "outputs": [
        {
          "output_type": "execute_result",
          "data": {
            "text/plain": [
              "array([5, 1, 0, 0, 3])"
            ]
          },
          "metadata": {},
          "execution_count": 115
        }
      ]
    },
    {
      "cell_type": "code",
      "metadata": {
        "colab": {
          "base_uri": "https://localhost:8080/",
          "height": 463
        },
        "id": "fH8zkPtnAwEs",
        "outputId": "796384c2-52ea-4857-866d-c2c53511c8a3"
      },
      "source": [
        "print(classification_report(labels_test, prediction_labels, target_names=label_list))\n",
        "pd.DataFrame(confusion_matrix(labels_test, prediction_labels), index=label_list, columns=label_list)"
      ],
      "execution_count": 116,
      "outputs": [
        {
          "output_type": "stream",
          "name": "stdout",
          "text": [
            "              precision    recall  f1-score   support\n",
            "\n",
            " DESCRIPTION       0.74      0.84      0.79       227\n",
            "      ENTITY       0.70      0.70      0.70       246\n",
            "ABBREVIATION       1.00      0.52      0.69        23\n",
            "       HUMAN       0.88      0.83      0.85       240\n",
            "     NUMERIC       0.92      0.94      0.93       189\n",
            "    LOCATION       0.80      0.75      0.78       166\n",
            "\n",
            "    accuracy                           0.80      1091\n",
            "   macro avg       0.84      0.76      0.79      1091\n",
            "weighted avg       0.81      0.80      0.80      1091\n",
            "\n"
          ]
        },
        {
          "output_type": "execute_result",
          "data": {
            "text/html": [
              "<div>\n",
              "<style scoped>\n",
              "    .dataframe tbody tr th:only-of-type {\n",
              "        vertical-align: middle;\n",
              "    }\n",
              "\n",
              "    .dataframe tbody tr th {\n",
              "        vertical-align: top;\n",
              "    }\n",
              "\n",
              "    .dataframe thead th {\n",
              "        text-align: right;\n",
              "    }\n",
              "</style>\n",
              "<table border=\"1\" class=\"dataframe\">\n",
              "  <thead>\n",
              "    <tr style=\"text-align: right;\">\n",
              "      <th></th>\n",
              "      <th>DESCRIPTION</th>\n",
              "      <th>ENTITY</th>\n",
              "      <th>ABBREVIATION</th>\n",
              "      <th>HUMAN</th>\n",
              "      <th>NUMERIC</th>\n",
              "      <th>LOCATION</th>\n",
              "    </tr>\n",
              "  </thead>\n",
              "  <tbody>\n",
              "    <tr>\n",
              "      <th>DESCRIPTION</th>\n",
              "      <td>191</td>\n",
              "      <td>24</td>\n",
              "      <td>0</td>\n",
              "      <td>0</td>\n",
              "      <td>8</td>\n",
              "      <td>4</td>\n",
              "    </tr>\n",
              "    <tr>\n",
              "      <th>ENTITY</th>\n",
              "      <td>44</td>\n",
              "      <td>173</td>\n",
              "      <td>0</td>\n",
              "      <td>10</td>\n",
              "      <td>2</td>\n",
              "      <td>17</td>\n",
              "    </tr>\n",
              "    <tr>\n",
              "      <th>ABBREVIATION</th>\n",
              "      <td>6</td>\n",
              "      <td>2</td>\n",
              "      <td>12</td>\n",
              "      <td>3</td>\n",
              "      <td>0</td>\n",
              "      <td>0</td>\n",
              "    </tr>\n",
              "    <tr>\n",
              "      <th>HUMAN</th>\n",
              "      <td>4</td>\n",
              "      <td>30</td>\n",
              "      <td>0</td>\n",
              "      <td>199</td>\n",
              "      <td>1</td>\n",
              "      <td>6</td>\n",
              "    </tr>\n",
              "    <tr>\n",
              "      <th>NUMERIC</th>\n",
              "      <td>5</td>\n",
              "      <td>2</td>\n",
              "      <td>0</td>\n",
              "      <td>1</td>\n",
              "      <td>177</td>\n",
              "      <td>4</td>\n",
              "    </tr>\n",
              "    <tr>\n",
              "      <th>LOCATION</th>\n",
              "      <td>7</td>\n",
              "      <td>15</td>\n",
              "      <td>0</td>\n",
              "      <td>14</td>\n",
              "      <td>5</td>\n",
              "      <td>125</td>\n",
              "    </tr>\n",
              "  </tbody>\n",
              "</table>\n",
              "</div>"
            ],
            "text/plain": [
              "              DESCRIPTION  ENTITY  ABBREVIATION  HUMAN  NUMERIC  LOCATION\n",
              "DESCRIPTION           191      24             0      0        8         4\n",
              "ENTITY                 44     173             0     10        2        17\n",
              "ABBREVIATION            6       2            12      3        0         0\n",
              "HUMAN                   4      30             0    199        1         6\n",
              "NUMERIC                 5       2             0      1      177         4\n",
              "LOCATION                7      15             0     14        5       125"
            ]
          },
          "metadata": {},
          "execution_count": 116
        }
      ]
    }
  ]
}